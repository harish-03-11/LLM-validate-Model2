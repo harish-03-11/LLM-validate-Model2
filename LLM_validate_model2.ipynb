{
  "nbformat": 4,
  "nbformat_minor": 0,
  "metadata": {
    "colab": {
      "provenance": [],
      "authorship_tag": "ABX9TyNWoasccOyESg+SyMYx1D4e",
      "include_colab_link": true
    },
    "kernelspec": {
      "name": "python3",
      "display_name": "Python 3"
    },
    "language_info": {
      "name": "python"
    }
  },
  "cells": [
    {
      "cell_type": "markdown",
      "metadata": {
        "id": "view-in-github",
        "colab_type": "text"
      },
      "source": [
        "<a href=\"https://colab.research.google.com/github/harish-03-11/LLM-validate-Model2/blob/main/LLM_validate_model2.ipynb\" target=\"_parent\"><img src=\"https://colab.research.google.com/assets/colab-badge.svg\" alt=\"Open In Colab\"/></a>"
      ]
    },
    {
      "cell_type": "code",
      "execution_count": null,
      "metadata": {
        "id": "6FysWVCK5NLF"
      },
      "outputs": [],
      "source": [
        "!pip install sentence-transformers\n"
      ]
    },
    {
      "cell_type": "code",
      "source": [
        "from sentence_transformers import SentenceTransformer, util"
      ],
      "metadata": {
        "id": "VOTbWPZu5UYk"
      },
      "execution_count": null,
      "outputs": []
    },
    {
      "cell_type": "code",
      "source": [
        "model = SentenceTransformer('all-mpnet-base-v2')"
      ],
      "metadata": {
        "id": "57TBCi0r5Z-H"
      },
      "execution_count": null,
      "outputs": []
    },
    {
      "cell_type": "code",
      "source": [
        "transcript = \"\"\"   \"\"\"\n",
        "\n",
        "summary = \"\"\"  \"\"\""
      ],
      "metadata": {
        "id": "GHzxBdq85pEF"
      },
      "execution_count": null,
      "outputs": []
    },
    {
      "cell_type": "code",
      "source": [
        "transcript_embedding = model.encode(transcript, convert_to_tensor=True)\n",
        "summary_embedding = model.encode(summary, convert_to_tensor=True)\n",
        "\n",
        "# Compute the cosine similarity between the transcript and the summary\n",
        "similarity_score = util.pytorch_cos_sim(transcript_embedding, summary_embedding)\n",
        "\n",
        "print(f\"Semantic Similarity Score: {similarity_score.item():.4f}\")\n",
        "\n",
        "# Set a threshold and check if the summary is correct\n",
        "threshold = 0.65\n",
        "\n",
        "if similarity_score >= threshold:\n",
        "    print(\"The summary is CORRECT.\")\n",
        "else:\n",
        "    print(\"The summary is INCORRECT.\")"
      ],
      "metadata": {
        "id": "_ULQnx995dJP"
      },
      "execution_count": null,
      "outputs": []
    }
  ]
}